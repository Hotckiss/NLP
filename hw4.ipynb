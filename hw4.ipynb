{
  "nbformat": 4,
  "nbformat_minor": 0,
  "metadata": {
    "accelerator": "GPU",
    "colab": {
      "name": "hw4.ipynb",
      "provenance": [],
      "collapsed_sections": [],
      "include_colab_link": true
    },
    "kernelspec": {
      "display_name": "Python 3",
      "language": "python",
      "name": "python3"
    },
    "language_info": {
      "codemirror_mode": {
        "name": "ipython",
        "version": 3
      },
      "file_extension": ".py",
      "mimetype": "text/x-python",
      "name": "python",
      "nbconvert_exporter": "python",
      "pygments_lexer": "ipython3",
      "version": "3.6.7"
    }
  },
  "cells": [
    {
      "cell_type": "markdown",
      "metadata": {
        "id": "view-in-github",
        "colab_type": "text"
      },
      "source": [
        "<a href=\"https://colab.research.google.com/github/Hotckiss/NLP/blob/master/hw4.ipynb\" target=\"_parent\"><img src=\"https://colab.research.google.com/assets/colab-badge.svg\" alt=\"Open In Colab\"/></a>"
      ]
    },
    {
      "cell_type": "code",
      "metadata": {
        "colab_type": "code",
        "id": "-GdLTPv3xdKi",
        "colab": {}
      },
      "source": [
        "import numpy as np\n",
        "import re\n",
        "import csv\n",
        "import string\n",
        "import nltk\n",
        "import string\n",
        "import torch\n",
        "import torch.nn as nn\n",
        "import torch.nn.functional as F\n",
        "import torch.optim as optim\n",
        "\n",
        "from torch.utils.data.dataset import Dataset\n",
        "from torch.nn.utils.rnn import pad_sequence\n",
        "from matplotlib import pyplot as plt\n",
        "from collections import defaultdict\n",
        "from sklearn.model_selection import train_test_split\n",
        "from nltk.stem.snowball import SnowballStemmer\n",
        "from google.colab import drive\n",
        "from nltk.corpus import stopwords\n",
        "from nltk.tokenize import wordpunct_tokenize as tokenize\n",
        "from nltk.stem.porter import PorterStemmer\n",
        "from sklearn.feature_extraction.text import TfidfVectorizer\n",
        "from scipy.spatial.distance import cosine"
      ],
      "execution_count": 0,
      "outputs": []
    },
    {
      "cell_type": "code",
      "metadata": {
        "colab_type": "code",
        "id": "wA6rdH6heAF1",
        "colab": {}
      },
      "source": [
        "drive.mount('./gdrive')"
      ],
      "execution_count": 0,
      "outputs": []
    },
    {
      "cell_type": "code",
      "metadata": {
        "id": "TM-FGpSWHCWz",
        "colab_type": "code",
        "colab": {}
      },
      "source": [
        "nltk.download('punkt')\n",
        "device = torch.device('cuda')\n",
        "stemmer = SnowballStemmer(\"russian\")\n",
        "nltk.download('stopwords')\n",
        "stop_words = set(stopwords.words('russian'))"
      ],
      "execution_count": 0,
      "outputs": []
    },
    {
      "cell_type": "code",
      "metadata": {
        "id": "U4BLqljSw_ej",
        "colab_type": "code",
        "colab": {}
      },
      "source": [
        "word_to_idx = defaultdict(int)\n",
        "separator = 65000\n",
        "pad_value = 65001"
      ],
      "execution_count": 0,
      "outputs": []
    },
    {
      "cell_type": "code",
      "metadata": {
        "id": "DAVPo48syXdL",
        "colab_type": "code",
        "colab": {}
      },
      "source": [
        "def plot_loss_values(loss_train, loss_val):\n",
        "    plt.plot(np.arange(len(loss_train)), loss_train, color='blue', label='train')\n",
        "    plt.plot(np.arange(0, len(loss_train), len(loss_train) / epoch_cnt), loss_val, color='red', label='validation')\n",
        "    plt.legend()\n",
        "    plt.title(\"Loss values\")\n",
        "    plt.xlabel(\"iteration\")\n",
        "    plt.ylabel(\"loss\")\n",
        "    plt.show()"
      ],
      "execution_count": 0,
      "outputs": []
    },
    {
      "cell_type": "code",
      "metadata": {
        "id": "pKOR515JJCPh",
        "colab_type": "code",
        "colab": {}
      },
      "source": [
        "def locate(text, answer):\n",
        "  sent_text = nltk.sent_tokenize(text, language=\"russian\")\n",
        "  for sent in sent_text:\n",
        "    idx = sent.lower().find(answer.lower())\n",
        "    if idx != -1:\n",
        "      return sent, idx\n",
        "\n",
        "  for i in range(len(sent_text) - 1):\n",
        "    sent = sent_text[i] + \" \" + sent_text[i + 1]\n",
        "    idx = sent.lower().find(answer.lower())\n",
        "    if idx != -1:\n",
        "      return sent, idx\n",
        "\n",
        "  return \"\", -1"
      ],
      "execution_count": 0,
      "outputs": []
    },
    {
      "cell_type": "code",
      "metadata": {
        "colab_type": "code",
        "id": "z1q5gRXqxdLV",
        "colab": {}
      },
      "source": [
        "def read_dataset():\n",
        "    dataset = []\n",
        "\n",
        "    with open(\"./gdrive/My Drive/train_qa.csv\", encoding='utf-8') as input_file:\n",
        "        i = -1\n",
        "        reader = csv.reader(input_file)\n",
        "        next(reader)\n",
        "\n",
        "        for row in reader:\n",
        "            i += 1\n",
        "            \n",
        "            query, answer = row[3], row[4]\n",
        "\n",
        "            if query[-1] == '?':\n",
        "                query = query[:-1]\n",
        "            if answer[-3:] == \"...\":\n",
        "                answer = answer[:-3]\n",
        "            if answer[:3] == \"...\":\n",
        "                answer = answer[3:]\n",
        "            if answer[0] == ' ' or answer[0] in string.punctuation:\n",
        "                answer = answer[1:]\n",
        "            if answer[-1] in string.punctuation:\n",
        "                answer = answer[:-1]\n",
        "\n",
        "            answer = answer.strip()\n",
        "            sent, ans_start = locate(row[2], answer)\n",
        "\n",
        "            if ans_start != -1:\n",
        "                dataset.append({'paragraph': re.split('(\\W)', sent),\n",
        "                                'query': re.split('(\\W)', query),\n",
        "                                'answer': (ans_start, len(answer))})\n",
        "                                \n",
        "    return dataset\n"
      ],
      "execution_count": 0,
      "outputs": []
    },
    {
      "cell_type": "code",
      "metadata": {
        "colab_type": "code",
        "id": "Y1Ni4f8NxdLt",
        "colab": {}
      },
      "source": [
        "dataset = read_dataset()"
      ],
      "execution_count": 0,
      "outputs": []
    },
    {
      "cell_type": "code",
      "metadata": {
        "colab_type": "code",
        "id": "IP-Q_4PtK2pl",
        "colab": {}
      },
      "source": [
        "def my_collate1(row, modify):\n",
        "    idx = []\n",
        "\n",
        "    def proc(word):\n",
        "        stemmed = stemmer.stem(word.lower())\n",
        "        if modify and stemmed not in word_to_idx:\n",
        "            word_to_idx[stemmed] = len(word_to_idx) + 1\n",
        "        idx.append(word_to_idx[stemmed])\n",
        "\n",
        "    for word in row['paragraph']:\n",
        "        proc(word)\n",
        "    \n",
        "    idx.append(separator)\n",
        "\n",
        "    for word in row['query']:\n",
        "        proc(word)\n",
        "\n",
        "    return torch.tensor(idx)"
      ],
      "execution_count": 0,
      "outputs": []
    },
    {
      "cell_type": "code",
      "metadata": {
        "colab_type": "code",
        "id": "rPgIjg8mxdMe",
        "colab": {}
      },
      "source": [
        "def my_collate2(row):\n",
        "    pos, idx = [], 0\n",
        "\n",
        "    for word in row['paragraph']:\n",
        "        l = len(word)\n",
        "        pos.append((idx, l))\n",
        "        idx += l\n",
        "\n",
        "    return pos"
      ],
      "execution_count": 0,
      "outputs": []
    },
    {
      "cell_type": "code",
      "metadata": {
        "colab_type": "code",
        "id": "tKKVAQeOxdMl",
        "colab": {}
      },
      "source": [
        "def pad_dataset(dataset, update_vocab):\n",
        "    num_dataset = [my_collate1(item, update_vocab) for item in tqdm(dataset)]\n",
        "    return pad_sequence(num_dataset, batch_first=True, padding_value=pad_value)"
      ],
      "execution_count": 0,
      "outputs": []
    },
    {
      "cell_type": "code",
      "metadata": {
        "colab_type": "code",
        "id": "X5VmPiTnKvYM",
        "colab": {}
      },
      "source": [
        "def pos_dataset(dataset):\n",
        "    return [my_collate2(item) for item in tqdm(dataset)]"
      ],
      "execution_count": 0,
      "outputs": []
    },
    {
      "cell_type": "code",
      "metadata": {
        "colab_type": "code",
        "id": "8yT-kS5NxdMq",
        "colab": {}
      },
      "source": [
        "dataset_padded = pad_dataset(dataset, True)\n",
        "dataset_pos = pos_dataset(dataset)"
      ],
      "execution_count": 0,
      "outputs": []
    },
    {
      "cell_type": "code",
      "metadata": {
        "colab_type": "code",
        "id": "iJdrIaH3xdM2",
        "colab": {}
      },
      "source": [
        "def join_dataset(dataset_padded, dataset_pos, dataset):\n",
        "    dataset_joined = []\n",
        "\n",
        "    for sent, pos, row in tqdm(zip(dataset_padded, dataset_pos, dataset)):\n",
        "        ans_start, ans_len = row['answer']\n",
        "        y = np.array([0, 0])\n",
        "\n",
        "        for pos_i in range(len(pos)):\n",
        "            if pos[pos_i][0] == ans_start:\n",
        "                y[0] = pos_i\n",
        "            if pos[pos_i][0] == ans_start + ans_len:\n",
        "                y[1] = pos_i - 1\n",
        "            \n",
        "        dataset_joined.append(np.append(sent.numpy(), y))\n",
        "\n",
        "    return dataset_joined"
      ],
      "execution_count": 0,
      "outputs": []
    },
    {
      "cell_type": "code",
      "metadata": {
        "colab_type": "code",
        "id": "8HOBgF9yxdM8",
        "colab": {}
      },
      "source": [
        "dataset_joined = join_dataset(dataset_padded, dataset_pos, dataset)"
      ],
      "execution_count": 0,
      "outputs": []
    },
    {
      "cell_type": "code",
      "metadata": {
        "colab_type": "code",
        "id": "RBV-OUxTxdNI",
        "colab": {}
      },
      "source": [
        "train, val = train_test_split(dataset_joined, test_size=0.2, random_state=42)"
      ],
      "execution_count": 0,
      "outputs": []
    },
    {
      "cell_type": "code",
      "metadata": {
        "colab_type": "code",
        "id": "ZAssvCKbxdNM",
        "colab": {}
      },
      "source": [
        "class MyLSTM(nn.Module):\n",
        "    def __init__(self, vocab_size):\n",
        "        super(MyLSTM, self).__init__()\n",
        "        self.emb = nn.Embedding(vocab_size, 64)\n",
        "        self.lstm = nn.LSTM(64, 64, num_layers=4, bidirectional=True, batch_first=True)\n",
        "        self.fc = nn.Linear(128, 2)\n",
        "    \n",
        "    def forward(self, x):\n",
        "        x = self.emb(x)\n",
        "        x, _ = self.lstm(x)\n",
        "        x = self.fc(x)\n",
        "        \n",
        "        return F.log_softmax(torch.transpose(x, 1, 2), dim=2)"
      ],
      "execution_count": 0,
      "outputs": []
    },
    {
      "cell_type": "code",
      "metadata": {
        "colab_type": "code",
        "id": "6xw73WgmxdNT",
        "colab": {}
      },
      "source": [
        "def train_(model, train, val, optimizer, loss_function, epoch_cnt, batch_size):\n",
        "    train_loader = torch.utils.data.DataLoader(train, batch_size=batch_size, shuffle=True)\n",
        "    val_loader = torch.utils.data.DataLoader(val, batch_size=batch_size)\n",
        "    loss_train, loss_val = [], []\n",
        "            \n",
        "    for epoch in tnrange(epoch_cnt, desc='Epoch'):\n",
        "        for batch_data in train_loader:\n",
        "            x, y = batch_data[:, :-2].to(device), batch_data[:, -2:].to(device)\n",
        "            optimizer.zero_grad()\n",
        "            output = model(x.long())\n",
        "            y1, y2 = y[:, 0].reshape(-1), y[:, 1].reshape(-1)\n",
        "            loss1 = loss_function(output[:, 0], y1.long())\n",
        "            loss2 = loss_function(output[:, 1], y2.long())\n",
        "            loss = (loss1 + loss2) / 2\n",
        "            loss.backward()\n",
        "\n",
        "            loss_train.append(loss.item())\n",
        "            nn.utils.clip_grad_norm_(model.parameters(), 5)\n",
        "            optimizer.step()\n",
        "\n",
        "        with torch.no_grad():\n",
        "            loss_values = []\n",
        "            for batch_data in val_loader:\n",
        "                x, y = batch_data[:, :-2].to(device), batch_data[:, -2:].to(device)\n",
        "                output = model(x.long())\n",
        "                y1, y2 = y[:, 0].reshape(-1), y[:, 1].reshape(-1)\n",
        "                loss1 = loss_function(output[:, 0], y1.long())\n",
        "                loss2 = loss_function(output[:, 1], y2.long())\n",
        "                loss = (loss1 + loss2) / 2\n",
        "\n",
        "                loss_values.append(loss.item())\n",
        "            loss_val.append(np.mean(np.array(loss_values)))\n",
        "\n",
        "    return loss_train, loss_val \n"
      ],
      "execution_count": 0,
      "outputs": []
    },
    {
      "cell_type": "code",
      "metadata": {
        "colab_type": "code",
        "id": "dXXYUI-mxdNa",
        "colab": {}
      },
      "source": [
        "vocab_size = max(pad_value, len(word_to_idx)) + 1\n",
        "epoch_cnt = 10\n",
        "batch_size = 64"
      ],
      "execution_count": 0,
      "outputs": []
    },
    {
      "cell_type": "code",
      "metadata": {
        "colab_type": "code",
        "id": "7TidGCKaxdNd",
        "colab": {}
      },
      "source": [
        "model = MyLSTM(vocab_size)\n",
        "model = model.float()\n",
        "model = model.to(device)"
      ],
      "execution_count": 0,
      "outputs": []
    },
    {
      "cell_type": "code",
      "metadata": {
        "colab_type": "code",
        "id": "h1rI1_MYxdNi",
        "colab": {}
      },
      "source": [
        "loss_function = nn.NLLLoss()\n",
        "optimizer = optim.Adam(model.parameters())"
      ],
      "execution_count": 0,
      "outputs": []
    },
    {
      "cell_type": "code",
      "metadata": {
        "colab_type": "code",
        "id": "ke_exZJWxdNs",
        "colab": {}
      },
      "source": [
        "loss_train, loss_val =\\\n",
        "    train_(model, train, val, optimizer, loss_function, epoch_cnt, batch_size)"
      ],
      "execution_count": 0,
      "outputs": []
    },
    {
      "cell_type": "code",
      "metadata": {
        "colab_type": "code",
        "id": "xcnlpTXKxdN3",
        "scrolled": true,
        "colab": {}
      },
      "source": [
        "plot_loss_values(loss_train, loss_val)"
      ],
      "execution_count": 0,
      "outputs": []
    },
    {
      "cell_type": "code",
      "metadata": {
        "id": "eCQFUcT2zFXL",
        "colab_type": "code",
        "colab": {}
      },
      "source": [
        "def best_tfidf(text, query):\n",
        "  sents = [elem for elem in list(nltk.sent_tokenize(text, language=\"russian\"))]\n",
        "  docs = sents + [query]\n",
        "  docs = [[stemmer.stem(i.lower()) for i in tokenize(d.translate(str.maketrans('','',string.punctuation))) if i.lower() not in stop_words] for d in docs]\n",
        "  docs = [' '.join(i) for i in docs]\n",
        "  tf_idf = TfidfVectorizer().fit_transform(docs)\n",
        "\n",
        "  l = len(sents)\n",
        "  minimum = (1, None)\n",
        "  for i in range(l):\n",
        "    if cosine(tf_idf[i].todense(), tf_idf[l].todense()) < minimum[0]:\n",
        "      minimum = (cosine(tf_idf[i].todense(), tf_idf[l].todense()), i)\n",
        "  if minimum[1] == None:\n",
        "    return None\n",
        "  return sents[minimum[1]]"
      ],
      "execution_count": 0,
      "outputs": []
    },
    {
      "cell_type": "code",
      "metadata": {
        "colab_type": "code",
        "id": "JuXQFeCexdLM",
        "colab": {}
      },
      "source": [
        "def read_input():\n",
        "    input_filename = \"dataset_281937_1 (3).txt\"\n",
        "    dataset = []\n",
        "\n",
        "    with open(input_filename, encoding='utf-8') as input_file:\n",
        "        reader = csv.reader(input_file, delimiter='\\t')\n",
        "        input_file.seek(0)\n",
        "        next(reader)\n",
        "        for row in reader:\n",
        "            query = row[3]\n",
        "            if query[-1] == '?':\n",
        "                query = query[:-1]\n",
        "\n",
        "            sent = best_tfidf(row[2], query)\n",
        "\n",
        "            if sent == None:\n",
        "                sent = row[2]\n",
        "\n",
        "            dataset.append({'paragraph': re.split('(\\W)', sent),\n",
        "                      'query': re.split('(\\W)', query),\n",
        "                      'query_id': row[1]})\n",
        "\n",
        "    return dataset\n"
      ],
      "execution_count": 0,
      "outputs": []
    },
    {
      "cell_type": "code",
      "metadata": {
        "colab_type": "code",
        "id": "chMdvjzjxdN9",
        "colab": {}
      },
      "source": [
        "test = read_input()\n",
        "test_padded = pad_dataset(test, False)\n",
        "test_pos = pos_dataset(test)"
      ],
      "execution_count": 0,
      "outputs": []
    },
    {
      "cell_type": "code",
      "metadata": {
        "colab_type": "code",
        "id": "cJ3_rkDCxdOF",
        "colab": {}
      },
      "source": [
        "with torch.no_grad():\n",
        "    test_loader = torch.utils.data.DataLoader(test_padded, batch_size=batch_size)\n",
        "    ans = None\n",
        "    \n",
        "    for batch_data in test_loader:\n",
        "        x = batch_data.to(device)\n",
        "        output = model(x.long())\n",
        "        _, ansx = output.max(dim=2)\n",
        "        ansx = ansx.cpu().numpy()\n",
        "        if ans is None:\n",
        "            ans = ansx\n",
        "        else:\n",
        "            ans = np.append(ans, ansx, axis=0)"
      ],
      "execution_count": 0,
      "outputs": []
    },
    {
      "cell_type": "code",
      "metadata": {
        "colab_type": "code",
        "id": "B29hzFLOxdOJ",
        "colab": {}
      },
      "source": [
        "with open(\"res.txt\", \"w\", encoding=\"utf-8\") as output_file:\n",
        "    for tags, row in zip(ans, test):\n",
        "        start, end = tags\n",
        "        if start > end:\n",
        "            start, end = end, start\n",
        "        if end >= len(row['paragraph']):\n",
        "            start, end = 0, 0\n",
        "        output_file.write(\"%s\\t%s\\n\" % (row['query_id'], \"\".join(row['paragraph'][start:end + 1])))\n"
      ],
      "execution_count": 0,
      "outputs": []
    }
  ]
}